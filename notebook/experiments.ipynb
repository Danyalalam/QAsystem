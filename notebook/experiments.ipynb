{
 "cells": [
  {
   "cell_type": "code",
   "execution_count": 37,
   "metadata": {},
   "outputs": [],
   "source": [
    "import os\n",
    "from dotenv import load_dotenv\n",
    "load_dotenv()\n",
    "\n",
    "# Load Google API Key\n",
    "google_api_key = os.getenv('GOOGLE_API_KEY')\n",
    "\n",
    "# Import necessary modules\n",
    "from llama_index.llms.gemini import Gemini\n",
    "import google.generativeai as genai\n",
    "from llama_index.core import SimpleDirectoryReader, VectorStoreIndex\n",
    "from IPython.display import Markdown, display\n",
    "from llama_index.embeddings.gemini import GeminiEmbedding\n",
    "\n",
    "# Configure Google Generative AI\n",
    "google_api_key = os.getenv('GOOGLE_API_KEY')\n",
    "\n",
    "# Initialize the models\n",
    "gemini_model = Gemini(model_name=\"models/gemini-pro\", api_key=google_api_key)\n",
    "gemini_embed_model = GeminiEmbedding(model_name=\"models/embedding-001\")\n",
    "# Load documents using SimpleDirectoryReader\n",
    "documents = SimpleDirectoryReader(input_dir='../data').load_data()\n",
    "\n",
    "# Build the index with the LLM and embeddings\n",
    "index = VectorStoreIndex.from_documents(\n",
    "    documents=documents,\n",
    "    llm=gemini_model,\n",
    "    embed_model=gemini_embed_model,\n",
    "    chunk_size=800,\n",
    "    chunk_overlap=20\n",
    ")\n",
    "\n",
    "\n"
   ]
  },
  {
   "cell_type": "code",
   "execution_count": 38,
   "metadata": {},
   "outputs": [],
   "source": [
    "index.storage_context.persist()"
   ]
  },
  {
   "cell_type": "code",
   "execution_count": 41,
   "metadata": {},
   "outputs": [],
   "source": [
    "query_engine = index.as_query_engine(llm=gemini_model)\n"
   ]
  },
  {
   "cell_type": "code",
   "execution_count": 45,
   "metadata": {},
   "outputs": [
    {
     "name": "stdout",
     "output_type": "stream",
     "text": [
      "- Production Grade Machine Learning Project\n",
      "- End TO End Chest Cancer Classification with Mlops(DL)\n",
      "- Transformer From Scratch In PyTorch\n"
     ]
    }
   ],
   "source": [
    "response = query_engine.query(\"what project are mentioned\")\n",
    "print(response)"
   ]
  },
  {
   "cell_type": "code",
   "execution_count": null,
   "metadata": {},
   "outputs": [],
   "source": []
  }
 ],
 "metadata": {
  "kernelspec": {
   "display_name": "Python 3",
   "language": "python",
   "name": "python3"
  },
  "language_info": {
   "codemirror_mode": {
    "name": "ipython",
    "version": 3
   },
   "file_extension": ".py",
   "mimetype": "text/x-python",
   "name": "python",
   "nbconvert_exporter": "python",
   "pygments_lexer": "ipython3",
   "version": "3.9.19"
  }
 },
 "nbformat": 4,
 "nbformat_minor": 2
}
